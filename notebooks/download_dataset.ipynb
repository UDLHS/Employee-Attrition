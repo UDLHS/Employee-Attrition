{
 "cells": [
  {
   "cell_type": "code",
   "execution_count": 1,
   "id": "bc0ecc8b-f07b-4b3f-a443-2f303806f231",
   "metadata": {
    "scrolled": true
   },
   "outputs": [
    {
     "name": "stdout",
     "output_type": "stream",
     "text": [
      "Collecting kaggle\n",
      "  Using cached kaggle-1.7.4.5-py3-none-any.whl.metadata (16 kB)\n",
      "Collecting bleach (from kaggle)\n",
      "  Using cached bleach-6.2.0-py3-none-any.whl.metadata (30 kB)\n",
      "Collecting certifi>=14.05.14 (from kaggle)\n",
      "  Using cached certifi-2025.8.3-py3-none-any.whl.metadata (2.4 kB)\n",
      "Collecting charset-normalizer (from kaggle)\n",
      "  Using cached charset_normalizer-3.4.2-cp313-cp313-win_amd64.whl.metadata (36 kB)\n",
      "Collecting idna (from kaggle)\n",
      "  Using cached idna-3.10-py3-none-any.whl.metadata (10 kB)\n",
      "Collecting protobuf (from kaggle)\n",
      "  Using cached protobuf-6.31.1-cp310-abi3-win_amd64.whl.metadata (593 bytes)\n",
      "Requirement already satisfied: python-dateutil>=2.5.3 in d:\\mine projects\\projectsnai\\employee-attrition\\env\\lib\\site-packages (from kaggle) (2.9.0.post0)\n",
      "Collecting python-slugify (from kaggle)\n",
      "  Using cached python_slugify-8.0.4-py2.py3-none-any.whl.metadata (8.5 kB)\n",
      "Collecting requests (from kaggle)\n",
      "  Using cached requests-2.32.4-py3-none-any.whl.metadata (4.9 kB)\n",
      "Requirement already satisfied: setuptools>=21.0.0 in d:\\mine projects\\projectsnai\\employee-attrition\\env\\lib\\site-packages (from kaggle) (80.9.0)\n",
      "Requirement already satisfied: six>=1.10 in d:\\mine projects\\projectsnai\\employee-attrition\\env\\lib\\site-packages (from kaggle) (1.17.0)\n",
      "Requirement already satisfied: text-unidecode in d:\\mine projects\\projectsnai\\employee-attrition\\env\\lib\\site-packages (from kaggle) (1.3)\n",
      "Collecting tqdm (from kaggle)\n",
      "  Using cached tqdm-4.67.1-py3-none-any.whl.metadata (57 kB)\n",
      "Requirement already satisfied: urllib3>=1.15.1 in d:\\mine projects\\projectsnai\\employee-attrition\\env\\lib\\site-packages (from kaggle) (2.5.0)\n",
      "Requirement already satisfied: webencodings in d:\\mine projects\\projectsnai\\employee-attrition\\env\\lib\\site-packages (from kaggle) (0.5.1)\n",
      "Collecting colorama (from tqdm->kaggle)\n",
      "  Using cached colorama-0.4.6-py2.py3-none-any.whl.metadata (17 kB)\n",
      "Using cached kaggle-1.7.4.5-py3-none-any.whl (181 kB)\n",
      "Using cached certifi-2025.8.3-py3-none-any.whl (161 kB)\n",
      "Using cached bleach-6.2.0-py3-none-any.whl (163 kB)\n",
      "Using cached charset_normalizer-3.4.2-cp313-cp313-win_amd64.whl (105 kB)\n",
      "Using cached idna-3.10-py3-none-any.whl (70 kB)\n",
      "Using cached protobuf-6.31.1-cp310-abi3-win_amd64.whl (435 kB)\n",
      "Using cached python_slugify-8.0.4-py2.py3-none-any.whl (10 kB)\n",
      "Using cached requests-2.32.4-py3-none-any.whl (64 kB)\n",
      "Using cached tqdm-4.67.1-py3-none-any.whl (78 kB)\n",
      "Using cached colorama-0.4.6-py2.py3-none-any.whl (25 kB)\n",
      "Installing collected packages: python-slugify, protobuf, idna, colorama, charset-normalizer, certifi, bleach, tqdm, requests, kaggle\n",
      "\n",
      "   ----------------------------------------  0/10 [python-slugify]\n",
      "   ----------------------------------------  0/10 [python-slugify]\n",
      "   ---- -----------------------------------  1/10 [protobuf]\n",
      "   ---- -----------------------------------  1/10 [protobuf]\n",
      "   ---- -----------------------------------  1/10 [protobuf]\n",
      "   ---- -----------------------------------  1/10 [protobuf]\n",
      "   ---- -----------------------------------  1/10 [protobuf]\n",
      "   ---- -----------------------------------  1/10 [protobuf]\n",
      "   ---- -----------------------------------  1/10 [protobuf]\n",
      "   ---- -----------------------------------  1/10 [protobuf]\n",
      "   ---- -----------------------------------  1/10 [protobuf]\n",
      "   -------- -------------------------------  2/10 [idna]\n",
      "   -------- -------------------------------  2/10 [idna]\n",
      "   ------------ ---------------------------  3/10 [colorama]\n",
      "   ------------ ---------------------------  3/10 [colorama]\n",
      "   ---------------- -----------------------  4/10 [charset-normalizer]\n",
      "   ---------------- -----------------------  4/10 [charset-normalizer]\n",
      "   ---------------- -----------------------  4/10 [charset-normalizer]\n",
      "   ---------------- -----------------------  4/10 [charset-normalizer]\n",
      "   -------------------- -------------------  5/10 [certifi]\n",
      "   ------------------------ ---------------  6/10 [bleach]\n",
      "   ------------------------ ---------------  6/10 [bleach]\n",
      "   ------------------------ ---------------  6/10 [bleach]\n",
      "   ------------------------ ---------------  6/10 [bleach]\n",
      "   ------------------------ ---------------  6/10 [bleach]\n",
      "   ---------------------------- -----------  7/10 [tqdm]\n",
      "   ---------------------------- -----------  7/10 [tqdm]\n",
      "   ---------------------------- -----------  7/10 [tqdm]\n",
      "   ---------------------------- -----------  7/10 [tqdm]\n",
      "   ---------------------------- -----------  7/10 [tqdm]\n",
      "   ---------------------------- -----------  7/10 [tqdm]\n",
      "   ---------------------------- -----------  7/10 [tqdm]\n",
      "   -------------------------------- -------  8/10 [requests]\n",
      "   -------------------------------- -------  8/10 [requests]\n",
      "   ------------------------------------ ---  9/10 [kaggle]\n",
      "   ------------------------------------ ---  9/10 [kaggle]\n",
      "   ------------------------------------ ---  9/10 [kaggle]\n",
      "   ------------------------------------ ---  9/10 [kaggle]\n",
      "   ------------------------------------ ---  9/10 [kaggle]\n",
      "   ------------------------------------ ---  9/10 [kaggle]\n",
      "   ------------------------------------ ---  9/10 [kaggle]\n",
      "   ------------------------------------ ---  9/10 [kaggle]\n",
      "   ------------------------------------ ---  9/10 [kaggle]\n",
      "   ------------------------------------ ---  9/10 [kaggle]\n",
      "   ------------------------------------ ---  9/10 [kaggle]\n",
      "   ---------------------------------------- 10/10 [kaggle]\n",
      "\n",
      "Successfully installed bleach-6.2.0 certifi-2025.8.3 charset-normalizer-3.4.2 colorama-0.4.6 idna-3.10 kaggle-1.7.4.5 protobuf-6.31.1 python-slugify-8.0.4 requests-2.32.4 tqdm-4.67.1\n"
     ]
    },
    {
     "name": "stderr",
     "output_type": "stream",
     "text": [
      "\n",
      "[notice] A new release of pip is available: 25.1.1 -> 25.2\n",
      "[notice] To update, run: python.exe -m pip install --upgrade pip\n"
     ]
    }
   ],
   "source": [
    "!pip install kaggle"
   ]
  },
  {
   "cell_type": "code",
   "execution_count": 1,
   "id": "47dd9f29-e5de-41a9-a566-2f7e7d94a936",
   "metadata": {},
   "outputs": [],
   "source": [
    "import json\n",
    "with open(\"../dataset/kaggle.json\", \"rb\") as file:\n",
    "    api_data = json.load(file)"
   ]
  },
  {
   "cell_type": "code",
   "execution_count": 2,
   "id": "e1e9a9ae-fa3a-4c2d-bd86-9ad1492ff2a0",
   "metadata": {},
   "outputs": [
    {
     "data": {
      "text/plain": [
       "{'username': 'udlhskel', 'key': '15b97f7d3798fe05abf89a9830caae55'}"
      ]
     },
     "execution_count": 2,
     "metadata": {},
     "output_type": "execute_result"
    }
   ],
   "source": [
    "api_data"
   ]
  },
  {
   "cell_type": "code",
   "execution_count": 3,
   "id": "5038859b-c1dc-4728-81a0-556936ff96cc",
   "metadata": {},
   "outputs": [],
   "source": [
    "import os\n",
    "os.environ[\"KAGGLE_USERNAME\"] = api_data[\"username\"]\n",
    "os.environ[\"KAGGLE_KEY\"] = api_data[\"key\"]"
   ]
  },
  {
   "cell_type": "code",
   "execution_count": 4,
   "id": "0b8ba1eb-8763-470b-867f-e3f0ff45ba1c",
   "metadata": {},
   "outputs": [],
   "source": [
    "import kaggle\n",
    "from kaggle.api.kaggle_api_extended import KaggleApi\n",
    "api = KaggleApi()\n",
    "api.authenticate()"
   ]
  },
  {
   "cell_type": "code",
   "execution_count": 5,
   "id": "f5954ebf-8989-4f68-a077-31d120172ff8",
   "metadata": {},
   "outputs": [
    {
     "name": "stdout",
     "output_type": "stream",
     "text": [
      "Dataset URL: https://www.kaggle.com/datasets/carrie1/ecommerce-data\n"
     ]
    }
   ],
   "source": [
    "api.dataset_download_files(\"carrie1/ecommerce-data\", path=\"../dataset\")"
   ]
  },
  {
   "cell_type": "code",
   "execution_count": 9,
   "id": "1120a1d6-2fa0-4b39-abf1-2bb1f45bc4f9",
   "metadata": {},
   "outputs": [],
   "source": [
    "import zipfile\n",
    "\n",
    "with zipfile.ZipFile(\"../dataset/ecommerce-data.zip\", 'r') as zip_ref:\n",
    "    zip_ref.extractall(\"../dataset\")\n"
   ]
  },
  {
   "cell_type": "code",
   "execution_count": null,
   "id": "6f89c2d4-4b20-44c4-a640-54830d752ce7",
   "metadata": {},
   "outputs": [],
   "source": []
  }
 ],
 "metadata": {
  "kernelspec": {
   "display_name": "Python 3 (ipykernel)",
   "language": "python",
   "name": "python3"
  },
  "language_info": {
   "codemirror_mode": {
    "name": "ipython",
    "version": 3
   },
   "file_extension": ".py",
   "mimetype": "text/x-python",
   "name": "python",
   "nbconvert_exporter": "python",
   "pygments_lexer": "ipython3",
   "version": "3.13.2"
  }
 },
 "nbformat": 4,
 "nbformat_minor": 5
}
